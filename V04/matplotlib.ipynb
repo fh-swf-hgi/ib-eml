{
 "cells": [
  {
   "cell_type": "markdown",
   "id": "0d4b54ef",
   "metadata": {},
   "source": [
    "<figure>\n",
    "  <IMG SRC=\"https://upload.wikimedia.org/wikipedia/commons/thumb/d/d5/Fachhochschule_Südwestfalen_20xx_logo.svg/320px-Fachhochschule_Südwestfalen_20xx_logo.svg.png\" WIDTH=250 ALIGN=\"right\">\n",
    "</figure>\n",
    "\n",
    "# Einführung Machine Learning\n",
    "### Sommersemester 2023\n",
    "Prof. Dr. Heiner Giefers"
   ]
  },
  {
   "cell_type": "markdown",
   "metadata": {
    "slideshow": {
     "slide_type": "slide"
    }
   },
   "source": [
    "<figure>\n",
    "  <IMG SRC=\"matplotliblogo300.png\" ALIGN=\"right\">\n",
    "</figure>\n",
    "\n",
    "    \n",
    "   \n",
    "# Visualisierung von Daten in Python"
   ]
  },
  {
   "cell_type": "markdown",
   "metadata": {
    "slideshow": {
     "slide_type": "slide"
    }
   },
   "source": [
    "## Vorab...\n",
    "\n",
    "In diesem Notebook geht es darum, wie man mathematische Abbildungen (*Plots*) in mit der Bibliothek *Matplotlib* in Python Python umsetzt.\n",
    "\n",
    "Es geht *nicht* (oder nur am Rande) darum, wie man gute Abbildungen gestaltet.\n",
    "\n",
    "- Claus O. Wilke, [*Fundamentals of Data Visualization*](https://clauswilke.com/dataviz/), O’Reilly, 2019.\n",
    "- Shirin Elsinghorst, [*The Good, the Bad and the Ugly: Analysen effektiv visualisieren und kommunizieren*](https://docs.google.com/presentation/d/e/2PACX-1vR4pD2EmW9Gzxr1Q3qwgjEYkU64o2-ThlX1mXqfNQ2EKteVUVt6Qg2ImEKKi9XLv-Iutb3lD8esLyU7/pub?start=false&loop=false&delayms=3000&slide=id.g58b36409ef_0_0), data2day Workshop, 2020\n"
   ]
  },
  {
   "cell_type": "markdown",
   "metadata": {
    "slideshow": {
     "slide_type": "slide"
    }
   },
   "source": [
    "## Matplotlib\n",
    "\n",
    "- *matplotlib* ist eine Python Bibliothek zum Plotten von 2D Grafiken\n",
    "- OpenSource Projekt seit 2002\n",
    "- Der Funktionsumfang der Bibliothek ist sehr groß\n",
    "- Für die Darstellung spezieller Graphen gibt es viele Beispiele in der Matplotlib [Galerie](https://matplotlib.org/stable/gallery)"
   ]
  },
  {
   "cell_type": "markdown",
   "metadata": {
    "slideshow": {
     "slide_type": "slide"
    }
   },
   "source": [
    "### Matplotlib importieren\n",
    "\n",
    "Genau wie bei Numpy mit `np` importieren wir standardmäßig Matplotlib unter dem Namen `mpl`\n",
    "\n",
    "```python\n",
    "import matplotlib as mpl\n",
    "```"
   ]
  },
  {
   "cell_type": "markdown",
   "metadata": {
    "slideshow": {
     "slide_type": "subslide"
    }
   },
   "source": [
    "### PyPlot\n",
    "\n",
    "- Pyplot ist ein Matplotlib-Modul, das eine MATLAB-ähnliche Schnittstelle bietet\n",
    "- Funktioniert wie eine Kommandozeile\n",
    "- Eine Abbildung kann erstellt und sukzessive verändert/erweitert werden\n",
    "- Pyplot ist die Schnittstelle, die wir für die allermeisten Matplotlib-Funktionen verwenden\n",
    "\n",
    "```python\n",
    "import matplotlib.pyplot as plt\n",
    "```"
   ]
  },
  {
   "cell_type": "code",
   "execution_count": null,
   "metadata": {
    "slideshow": {
     "slide_type": "fragment"
    }
   },
   "outputs": [],
   "source": [
    "import matplotlib as mpl\n",
    "import matplotlib.pyplot as plt"
   ]
  },
  {
   "cell_type": "markdown",
   "metadata": {
    "slideshow": {
     "slide_type": "slide"
    }
   },
   "source": [
    "### Styles\n",
    "\n",
    "- Ein [*Style*](https://matplotlib.org/stable/gallery/style_sheets/style_sheets_reference.html) legt allgemeine Eingeschften der Plots fest: Farbschema, Schriftgröße, Hintergrundfarbe, etc.\n",
    "- Der `default` Style passt für die meisten Anwendungsfälle\n",
    "- `dark_background` kann nützlich sein, wenn Sie Abbildungen für eine Website oder einen Foliensatz mit dunklem Hintergrund generieren wollen"
   ]
  },
  {
   "cell_type": "code",
   "execution_count": null,
   "metadata": {
    "slideshow": {
     "slide_type": "-"
    }
   },
   "outputs": [],
   "source": [
    "#plt.style.use('dark_background')\n",
    "plt.style.use('default')\n",
    "mpl.rcParams['figure.figsize'] = (8, 3)"
   ]
  },
  {
   "cell_type": "markdown",
   "metadata": {
    "slideshow": {
     "slide_type": "slide"
    }
   },
   "source": [
    "### Plots anzeigen"
   ]
  },
  {
   "cell_type": "markdown",
   "metadata": {
    "slideshow": {
     "slide_type": "-"
    }
   },
   "source": [
    "- Wenn Sie Matplotlib in Jupyter Notebook Zellen verwenden, wird die Abbildung nach jeder Zelle *ausgewertet* und angezeigt\n",
    "- In einem Python Skript funktioniert das nicht automatisch\n",
    "- Mit `plt.show()` werden alle aktiven Grafiken ausgewertet und angezeigt\n",
    "\n",
    "```python\n",
    "# ------- file: myplot.py ------\n",
    "import matplotlib.pyplot as plt\n",
    "import numpy as np\n",
    "\n",
    "x = np.linspace(0, 10, 100)\n",
    "plt.plot(x, np.sin(x))\n",
    "plt.show()\n",
    "```"
   ]
  },
  {
   "cell_type": "markdown",
   "metadata": {
    "slideshow": {
     "slide_type": "subslide"
    }
   },
   "source": [
    "Im Notebook erfolgt die Auswertung automatisch"
   ]
  },
  {
   "cell_type": "code",
   "execution_count": null,
   "metadata": {
    "slideshow": {
     "slide_type": "-"
    }
   },
   "outputs": [],
   "source": [
    "import numpy as np\n",
    "plt.figure()\n",
    "x = np.linspace(0, 3*np.pi, 100)\n",
    "plt.plot(x, np.sin(x), '-')\n",
    "plt.plot(x, np.cos(x), '--');"
   ]
  },
  {
   "cell_type": "markdown",
   "metadata": {
    "slideshow": {
     "slide_type": "slide"
    }
   },
   "source": [
    "### Grafiken speichern\n",
    "\n",
    "- Eine praktische Eigenschaft der Matplotlib ist die Fähigkeit, Grafiken in verschiedenen Bildformaten abzuspeichern\n",
    "- Man kann eine Grafik sehr einfach über das `savefig()` Kommando speichern\n",
    "- Über den angegeben Dateinamen findet Matplotlib das gewünschte Format"
   ]
  },
  {
   "cell_type": "code",
   "execution_count": null,
   "metadata": {
    "slideshow": {
     "slide_type": "fragment"
    }
   },
   "outputs": [],
   "source": [
    "plt.savefig('Sinus_und_Cosinus.png')"
   ]
  },
  {
   "cell_type": "markdown",
   "metadata": {
    "slideshow": {
     "slide_type": "fragment"
    }
   },
   "source": [
    "Nach diesem Kommando sollte es eine entsprechende Datei im aktuellen Verzeichnis geben"
   ]
  },
  {
   "cell_type": "code",
   "execution_count": null,
   "metadata": {
    "slideshow": {
     "slide_type": "-"
    }
   },
   "outputs": [],
   "source": [
    "!ls -lh Sinus_und_Cosinus.png"
   ]
  },
  {
   "cell_type": "markdown",
   "metadata": {
    "slideshow": {
     "slide_type": "slide"
    }
   },
   "source": [
    "Schauen wir uns die erzeugte Bilddatei an:"
   ]
  },
  {
   "cell_type": "code",
   "execution_count": null,
   "metadata": {
    "slideshow": {
     "slide_type": "-"
    }
   },
   "outputs": [],
   "source": [
    "from IPython.display import Image\n",
    "Image('Sinus_und_Cosinus.png') "
   ]
  },
  {
   "cell_type": "markdown",
   "metadata": {
    "slideshow": {
     "slide_type": "fragment"
    }
   },
   "source": [
    "**Warum ist die Abbildung leer?**"
   ]
  },
  {
   "cell_type": "code",
   "execution_count": null,
   "metadata": {
    "slideshow": {
     "slide_type": "subslide"
    }
   },
   "outputs": [],
   "source": [
    "import numpy as np\n",
    "x = np.linspace(0, 3*np.pi, 100)\n",
    "plt.plot(x, np.sin(x), '-')\n",
    "plt.plot(x, np.cos(x), '--');\n",
    "plt.savefig('Sinus_und_Cosinus.png')"
   ]
  },
  {
   "cell_type": "code",
   "execution_count": null,
   "metadata": {
    "slideshow": {
     "slide_type": "subslide"
    }
   },
   "outputs": [],
   "source": [
    "from IPython.display import Image\n",
    "Image('Sinus_und_Cosinus.png')"
   ]
  },
  {
   "cell_type": "markdown",
   "metadata": {
    "slideshow": {
     "slide_type": "slide"
    }
   },
   "source": [
    "`savefig()` kennt noch viele weitere Dateiformate. Eine vollständige Liste erhalten die ebenfalls von Matplotlib:"
   ]
  },
  {
   "cell_type": "code",
   "execution_count": null,
   "metadata": {
    "slideshow": {
     "slide_type": "-"
    }
   },
   "outputs": [],
   "source": [
    "plt.gcf().canvas.get_supported_filetypes()"
   ]
  },
  {
   "cell_type": "markdown",
   "metadata": {
    "slideshow": {
     "slide_type": "slide"
    }
   },
   "source": [
    "### Die 2 Schnittstellen von Matplotlib\n",
    "\n",
    "- Wie wir gesehen haben, kann das Verhalten von Matplotlib  verwirrend ein\n",
    "- Ein Grund ist, dass es 2 Verwendungsmöglichkeiten für PyPlot gibt:"
   ]
  },
  {
   "cell_type": "markdown",
   "metadata": {
    "slideshow": {
     "slide_type": "-"
    }
   },
   "source": [
    "1. **Die MATLAB-artige Schnittstelle**\n",
    "2. **Die objektorientierte Schnittstelle**"
   ]
  },
  {
   "cell_type": "markdown",
   "metadata": {
    "slideshow": {
     "slide_type": "subslide"
    }
   },
   "source": [
    "#### Die MATLAB-artige Schnittstelle\n",
    "\n",
    "- Matplotlib wurde ursprünglich als Python-Alternative für (die Plotting-Funktionen von) MATLAB etwickelt\n",
    "- Viele MATLAB Funktionen zum Visualisieren lassen sich 1:1 mit `plt` umsetzen\n",
    "- Beachten Sie, dass es in folgendem Beispiel keine *Variablen* gibt:"
   ]
  },
  {
   "cell_type": "code",
   "execution_count": null,
   "metadata": {
    "slideshow": {
     "slide_type": "subslide"
    }
   },
   "outputs": [],
   "source": [
    "plt.figure()  # Abbildung erzeugen\n",
    "\n",
    "# Erzeuge das erste (von 2) Koordinatensystem(en)\n",
    "plt.subplot(2, 1, 1) # (Zeilen, Spalten, aktuelle Achse)\n",
    "plt.plot(x, np.sin(x))\n",
    "\n",
    "# Erzeuge das zweite Koordinatensystem\n",
    "plt.subplot(2, 1, 2)\n",
    "plt.plot(x, np.cos(x));"
   ]
  },
  {
   "cell_type": "markdown",
   "metadata": {
    "slideshow": {
     "slide_type": "subslide"
    }
   },
   "source": [
    "- Wir sehen hier keine Variablen, allerdings gibt es einen *versteckten Zustand*\n",
    "- PyPlot verwaltet intern ein **current figure**, also eine aktuelle Abbildung und aktuelle Koordinatensysteme\n",
    "- Alle `plt.`-Kommandos werden auf diese Objekte angewendet"
   ]
  },
  {
   "cell_type": "markdown",
   "metadata": {
    "slideshow": {
     "slide_type": "fragment"
    }
   },
   "source": [
    "- Normalerweise *sehen* Sie diese Objekte nicht\n",
    "- Man kann Referenz auf diese internen Objekte beziehen\n",
    "- `plt.gcf()` (*get current figure*) liefert eine Referenz auf das *Figure* Objekt\n",
    "- `plt.gca()` (*get current axes*) liefert eine Referenz auf ein *Axes* Objekt\n",
    "- Manche Funktionen müssen *über* diese Objekte aufgerufen werden"
   ]
  },
  {
   "cell_type": "markdown",
   "metadata": {
    "slideshow": {
     "slide_type": "fragment"
    }
   },
   "source": [
    "`plt.gcf().canvas.get_supported_filetypes()`"
   ]
  },
  {
   "cell_type": "markdown",
   "metadata": {
    "slideshow": {
     "slide_type": "slide"
    }
   },
   "source": [
    "#### Die objektorientierte Schnittstelle\n",
    "\n",
    "- Für komplexere Grafiken ist es sinnvoll, direkt die objektorientierte Schnittstelle zu verwenden\n",
    "- `plt.subplots(N)` liefert ein 2-Tupel mit Referenzen auf die PyPlot Objekte\n",
    "   1. Referenz auf die Abbildung (*Figure*)\n",
    "   2. Eine Liste mit *N* Referenzen auf Koordinatensysteme (*Axes*)\n",
    "   \n",
    "- Normalerweise werden die Elemente des Tupels `fig` und `ax` genannt\n",
    "- `fig, ax = plt.subplots(2)`\n",
    "- Es zeugt von gutem Stil, sich an solche Konventionen zu halten"
   ]
  },
  {
   "cell_type": "code",
   "execution_count": null,
   "metadata": {
    "slideshow": {
     "slide_type": "subslide"
    }
   },
   "outputs": [],
   "source": [
    "# Erstelle eine Abbildung mit Koordinatensystemen\n",
    "fig, ax = plt.subplots(2)\n",
    "\n",
    "# Plotte explizit in bestimmte Koordinatensysteme\n",
    "ax[0].plot(x, np.sin(x))\n",
    "ax[1].plot(x, np.cos(x));"
   ]
  },
  {
   "cell_type": "markdown",
   "metadata": {
    "slideshow": {
     "slide_type": "slide"
    }
   },
   "source": [
    "![](https://miro.medium.com/max/1000/1*CANkzqegZcHv9znE1U4s7A.png)"
   ]
  },
  {
   "cell_type": "markdown",
   "metadata": {
    "slideshow": {
     "slide_type": "slide"
    }
   },
   "source": [
    "## Kurvendiagramme\n",
    "\n",
    "- Die vermutliche häufigste Diagramm-Art sind Kurvendiagramme\n",
    "- Beispiel: Graph einer Funktion $y = f(x)$."
   ]
  },
  {
   "cell_type": "code",
   "execution_count": null,
   "metadata": {
    "slideshow": {
     "slide_type": "fragment"
    }
   },
   "outputs": [],
   "source": [
    "plt.style.use('seaborn-v0_8-whitegrid')\n",
    "fig, ax = plt.subplots()\n",
    "\n",
    "x = np.linspace(0, 10, 1000)\n",
    "ax.plot(x, np.sin(x));"
   ]
  },
  {
   "cell_type": "markdown",
   "metadata": {
    "slideshow": {
     "slide_type": "slide"
    }
   },
   "source": [
    "Wir können mehrere *Plots* in das selbe Koordinatensystem Zeichnen, indem wir die `plot`-Methode mehrfach aufrufen (bevor die Abbildung ausgewertet wird)"
   ]
  },
  {
   "cell_type": "code",
   "execution_count": null,
   "metadata": {
    "slideshow": {
     "slide_type": "-"
    }
   },
   "outputs": [],
   "source": [
    "plt.plot(x, np.sin(x))\n",
    "plt.plot(x, np.cos(x))"
   ]
  },
  {
   "cell_type": "markdown",
   "metadata": {
    "slideshow": {
     "slide_type": "slide"
    }
   },
   "source": [
    "### Plots modifizieren: Linien\n",
    "- Die `plot`-Methode besitzt diverse optionale Parameter\n",
    "- Die Farbe der Kurve kann über den Parameter `color` eingestellt werden\n",
    "- Auch hierfür gibt es verschiedene Möglichkeiten"
   ]
  },
  {
   "cell_type": "code",
   "execution_count": null,
   "metadata": {
    "slideshow": {
     "slide_type": "fragment"
    }
   },
   "outputs": [],
   "source": [
    "plt.plot(x, x+1, color='blue')        # per Name\n",
    "plt.plot(x, x+2, color='g')           # per Kurzname (rgbcmyk)\n",
    "plt.plot(x, x+3, color='0.25')        # Graustufen zwischen 0 and 1\n",
    "plt.plot(x, x+4, color='#FFDD44')     # Hex-Code (RRGGBB von 00 bis FF)\n",
    "plt.plot(x, x+5, color=(1.0,0.2,0.3)) # RGB Tupel, Werte von 0 bis 1\n",
    "plt.plot(x, x+6, color='chartreuse'); # HTML Farb-Namen"
   ]
  },
  {
   "cell_type": "markdown",
   "metadata": {
    "slideshow": {
     "slide_type": "subslide"
    }
   },
   "source": [
    "Wenn Sie keine `color` angeben, wechselt PyPlot durch das voreingestellte Farbschema."
   ]
  },
  {
   "cell_type": "code",
   "execution_count": null,
   "metadata": {
    "slideshow": {
     "slide_type": "-"
    }
   },
   "outputs": [],
   "source": [
    "plt.plot(x, x+1)\n",
    "plt.plot(x, x+2)\n",
    "plt.plot(x, x+3)\n",
    "plt.plot(x, x+4)\n",
    "plt.plot(x, x+5)\n",
    "plt.plot(x, x+6)"
   ]
  },
  {
   "cell_type": "markdown",
   "metadata": {
    "slideshow": {
     "slide_type": "subslide"
    }
   },
   "source": [
    "Mit einem `plot`-Aufruf können ebenfalls mehrere Funktionen geplottet werden."
   ]
  },
  {
   "cell_type": "code",
   "execution_count": null,
   "metadata": {
    "slideshow": {
     "slide_type": "-"
    }
   },
   "outputs": [],
   "source": [
    "plt.plot(x, x+1, x, x+2, x, x+3, x, x+4, x, x+5, x, x+6);"
   ]
  },
  {
   "cell_type": "markdown",
   "metadata": {
    "slideshow": {
     "slide_type": "slide"
    }
   },
   "source": [
    "Neben der Farbe kann auch die Linienform angepasst werden. Dies geschieht über den `linestyle` Parameter"
   ]
  },
  {
   "cell_type": "code",
   "execution_count": null,
   "metadata": {
    "slideshow": {
     "slide_type": "-"
    }
   },
   "outputs": [],
   "source": [
    "plt.plot(x, x + 0, linestyle='solid')\n",
    "plt.plot(x, x + 1, linestyle='dashed')\n",
    "plt.plot(x, x + 2, linestyle='dashdot')\n",
    "plt.plot(x, x + 3, linestyle='dotted');\n",
    "#ODER:\n",
    "plt.plot(x, x + 6, linestyle='-')   # solid\n",
    "plt.plot(x, x + 7, linestyle='--')  # dashed\n",
    "plt.plot(x, x + 8, linestyle='-.')  # dashdot\n",
    "plt.plot(x, x + 9, linestyle=':');  # dotted"
   ]
  },
  {
   "cell_type": "markdown",
   "metadata": {
    "slideshow": {
     "slide_type": "subslide"
    }
   },
   "source": [
    "`linestyle` und `color` können in eine Art *Formatstring* zusammengefasst werden"
   ]
  },
  {
   "cell_type": "code",
   "execution_count": null,
   "metadata": {
    "slideshow": {
     "slide_type": "fragment"
    }
   },
   "outputs": [],
   "source": [
    "plt.plot(x, x + 0, '-g')   # solid Grün\n",
    "plt.plot(x, x + 1, '--c')  # dashed Cyan\n",
    "plt.plot(x, x + 2, '-.k')  # dashdot Schwarz\n",
    "plt.plot(x, x + 3, ':r');  # dotted Rot"
   ]
  },
  {
   "cell_type": "markdown",
   "metadata": {
    "slideshow": {
     "slide_type": "slide"
    }
   },
   "source": [
    "### Plots modifizieren: Grenzen der Koordinatenachsen \n",
    "\n",
    "- Matplotlib leitet Grenzen für die Koordinatenachsen automatisch her\n",
    "- Manchmal möchte man die Grenzen selbst einstellen\n",
    "- Hierzu dienen die Methoden `plt.xlim()` und `plt.ylim()`"
   ]
  },
  {
   "cell_type": "code",
   "execution_count": null,
   "metadata": {
    "slideshow": {
     "slide_type": "fragment"
    }
   },
   "outputs": [],
   "source": [
    "plt.figure()\n",
    "plt.subplot(1,2,1)\n",
    "plt.plot(x, np.sin(x))\n",
    "plt.subplot(1,2,2)\n",
    "plt.plot(x, np.sin(x))\n",
    "plt.xlim(0, 10)\n",
    "plt.ylim(1.5, -1.5);"
   ]
  },
  {
   "cell_type": "markdown",
   "metadata": {
    "slideshow": {
     "slide_type": "subslide"
    }
   },
   "source": [
    "Bei der objektorientierten Schnittstelle heißen die `xlim()` und `ylim()` Funktionen übrigens anders, nämlich \n",
    " `set_xlim()` und `set_ylim()`\n",
    " \n",
    "*(Habe ich schon erwähnt, dass die beiden Schnittstellen von PyPlot oft verwirren?)*"
   ]
  },
  {
   "cell_type": "code",
   "execution_count": null,
   "metadata": {
    "slideshow": {
     "slide_type": "-"
    }
   },
   "outputs": [],
   "source": [
    "fix, ax = plt.subplots(1,2)\n",
    "ax[0].plot(x, np.sin(x))\n",
    "ax[1].plot(x, np.sin(x))\n",
    "\n",
    "ax[1].set_xlim(0, 10)\n",
    "ax[1].set_ylim(-1, 1);"
   ]
  },
  {
   "cell_type": "markdown",
   "metadata": {
    "slideshow": {
     "slide_type": "subslide"
    }
   },
   "source": [
    "Mit `plt.axis()` können die `x` und `y` Grenzen gemeinsam gesetzt werden, als Liste von 4 Werten`[xmin, xmax, ymin, ymax]`"
   ]
  },
  {
   "cell_type": "code",
   "execution_count": null,
   "metadata": {
    "slideshow": {
     "slide_type": "-"
    }
   },
   "outputs": [],
   "source": [
    "plt.plot(x, np.sin(x))\n",
    "plt.axis([-1, 11, -1.5, 1.5]);"
   ]
  },
  {
   "cell_type": "markdown",
   "metadata": {
    "slideshow": {
     "slide_type": "slide"
    }
   },
   "source": [
    "### Plots modifizieren: Titel von Graphen und Achsen\n",
    "\n",
    "- Bei einer guten Abbildung sind immer die Achsen beschriftet\n",
    "- Bei mehreren Kurven sollte es eine Legende geben\n",
    "- Graphen können einen Titel besitzen"
   ]
  },
  {
   "cell_type": "code",
   "execution_count": null,
   "metadata": {
    "slideshow": {
     "slide_type": "fragment"
    }
   },
   "outputs": [],
   "source": [
    "plt.plot(x, np.sin(x))\n",
    "plt.title(\"Sinuskurve\")\n",
    "plt.xlabel(\"x\", size=16)\n",
    "plt.ylabel(\"sin(x)\", size=16);"
   ]
  },
  {
   "cell_type": "markdown",
   "metadata": {
    "slideshow": {
     "slide_type": "slide"
    }
   },
   "source": [
    "- Über den Parameter `label` der Methode `plot` kann einer Kurve ein Name verliehen werden\n",
    "- Diese Namen werden in die Legende übernommen\n",
    "- Eine Legende kann mit `plt.legend()` dem Graphen hinzugefügt werden\n",
    "- Die Positionierung erfolgt automatisch oder über den Parameter `loc`"
   ]
  },
  {
   "cell_type": "code",
   "execution_count": null,
   "metadata": {
    "slideshow": {
     "slide_type": "-"
    }
   },
   "outputs": [],
   "source": [
    "plt.plot(x, np.sin(x), '-g', label='sin(x)')\n",
    "plt.plot(x, np.cos(x), ':b', label='cos(x)')\n",
    "plt.legend(loc=\"lower left\");"
   ]
  },
  {
   "cell_type": "markdown",
   "metadata": {
    "slideshow": {
     "slide_type": "subslide"
    }
   },
   "source": [
    "- Viele `.plt`-Funktionen der MATLAB-artigen Schnittstelle lassen sich genauso mit der objektorientierten Schnittstelle verwenden#\n",
    "- Leider gilt das nicht für alle Funktionen, hier einige Unterschiede\n",
    "\n",
    "- ``plt.xlabel()``  → ``ax.set_xlabel()``\n",
    "- ``plt.ylabel()``  → ``ax.set_ylabel()``\n",
    "- ``plt.xlim()``    → ``ax.set_xlim()``\n",
    "- ``plt.ylim()``    → ``ax.set_ylim()``\n",
    "- ``plt.title()``   → ``ax.set_title()``\n",
    "\n",
    "In der objektorientierten Variante können alle Parameter gleichzeitig über die `set()`-Funktion eingestellt werden:"
   ]
  },
  {
   "cell_type": "code",
   "execution_count": null,
   "metadata": {
    "slideshow": {
     "slide_type": "subslide"
    }
   },
   "outputs": [],
   "source": [
    "fig, ax = plt.subplots()\n",
    "ax.plot(x, np.sin(x))\n",
    "ax.set(xlim=(0, 10), ylim=(-2, 2), xlabel='x', ylabel='sin(x)',\n",
    "       title='Sinuskurve');"
   ]
  },
  {
   "cell_type": "markdown",
   "metadata": {
    "slideshow": {
     "slide_type": "slide"
    }
   },
   "source": [
    "## Streudiagramme"
   ]
  },
  {
   "cell_type": "markdown",
   "metadata": {},
   "source": [
    "- Streudiagramme sind in der Statistik und zur Datenanalyse sehr verbreitet\n",
    "- Simple Idee: Statt einer verbunden Kurve plotte nur die Punkte\n",
    "- Da bei `plot` die Funktion als *x* und *y* Koordianten übergeben wird, kann `plot` auch Streudiagramme erzeugen"
   ]
  },
  {
   "cell_type": "code",
   "execution_count": null,
   "metadata": {
    "slideshow": {
     "slide_type": "fragment"
    }
   },
   "outputs": [],
   "source": [
    "x = np.linspace(0, 10, 30)\n",
    "y = np.sin(x)\n",
    "#plt.plot(x, y, 'o', color='k');\n",
    "plt.plot(x, np.sin(x), linestyle='', marker='o', color='k');\n",
    "plt.plot(x, np.cos(x), 'o', color='r');"
   ]
  },
  {
   "cell_type": "markdown",
   "metadata": {
    "slideshow": {
     "slide_type": "subslide"
    }
   },
   "source": [
    "- Als *Marker* können verschiedene Symbole verwendet werden"
   ]
  },
  {
   "cell_type": "code",
   "execution_count": null,
   "metadata": {
    "slideshow": {
     "slide_type": "fragment"
    }
   },
   "outputs": [],
   "source": [
    "import numpy.random as rng\n",
    "plt.figure(figsize=(9,6))\n",
    "for marker in ['o', '.', ',', 'x', '+', 'v', '^', '<', '>', 's', 'd']:\n",
    "    plt.plot(rng.rand(3), rng.rand(3), marker, markersize=8,\n",
    "             label=f\"'{marker}'\")\n",
    "plt.legend(fontsize=14)\n",
    "plt.xlim(0, 1.2);"
   ]
  },
  {
   "cell_type": "markdown",
   "metadata": {
    "slideshow": {
     "slide_type": "slide"
    }
   },
   "source": [
    "#### \"Echte\" Streudiagramme mit `plt.scatter`\n",
    "\n",
    "Die bessere Alternative um Streudiagramme zu erzeugen ist die Funktion `plt.scatter`"
   ]
  },
  {
   "cell_type": "code",
   "execution_count": null,
   "metadata": {
    "slideshow": {
     "slide_type": "-"
    }
   },
   "outputs": [],
   "source": [
    "x = np.linspace(0, 10, 30)\n",
    "y = np.sin(x)\n",
    "plt.scatter(x, y, marker='o');"
   ]
  },
  {
   "cell_type": "markdown",
   "metadata": {
    "slideshow": {
     "slide_type": "subslide"
    }
   },
   "source": [
    "- `plt.scatter` mat mehr Einstellungsmöglichkeiten als  `plt.plot`\n",
    "- Jeder einzelne Punkt kann formatiert werden, bzw. die Daten geben die Formatierung vor\n",
    "- So lassen sich drei (und mehr) Dimensionen in einem 2D-Plot darstellen"
   ]
  },
  {
   "cell_type": "code",
   "execution_count": null,
   "metadata": {
    "slideshow": {
     "slide_type": "-"
    }
   },
   "outputs": [],
   "source": [
    "x = []\n",
    "for i in range(4):\n",
    "    x.append(rng.randn(100))\n",
    "plt.scatter(x[0], x[1], c=x[2], s=1000*x[3], alpha=0.5, cmap='viridis')\n",
    "plt.colorbar();  # Zeige die Farbskala"
   ]
  },
  {
   "cell_type": "markdown",
   "metadata": {
    "slideshow": {
     "slide_type": "subslide"
    }
   },
   "source": [
    "- Streudiagramme helfen bei der Datenanalyse, um zu verstehen, wie Datenpunkte anhand von *Merkmalen* angeordnet sind.\n",
    "- Beispiel: Iris Datensatz mit Schwertlilienarten nach ihren Blütenblättern (*setal*) und Kronenblättern (*petal*) vermessen"
   ]
  },
  {
   "cell_type": "code",
   "execution_count": null,
   "metadata": {
    "slideshow": {
     "slide_type": "fragment"
    }
   },
   "outputs": [],
   "source": [
    "from sklearn.datasets import load_iris\n",
    "iris = load_iris()\n",
    "merkmale = iris.data.T\n",
    "art = iris.target\n",
    "plt.scatter(merkmale[3], merkmale[1], alpha=0.6, marker='s', c=art, cmap='viridis')\n",
    "plt.xlabel(iris.feature_names[3])\n",
    "plt.ylabel(iris.feature_names[1]);"
   ]
  },
  {
   "cell_type": "markdown",
   "metadata": {
    "slideshow": {
     "slide_type": "slide"
    }
   },
   "source": [
    "## Plots beschriften"
   ]
  },
  {
   "cell_type": "code",
   "execution_count": null,
   "metadata": {
    "slideshow": {
     "slide_type": "-"
    }
   },
   "outputs": [],
   "source": [
    "x = np.linspace(-1.5, 1.5, 30)\n",
    "px = 0.8\n",
    "py = px**2\n",
    "\n",
    "plt.plot(x, x**2, \"b-\", px, py, \"ro\")\n",
    "plt.text(0, 1.5, \"Quadratfunktion\\n$y = x^2$\", fontsize=20, color='blue', horizontalalignment=\"center\")\n",
    "plt.text(px-0.05, py, \"Ein Punkt\", ha=\"right\", weight=\"heavy\")\n",
    "plt.text(px, py, \"x = %0.2f\\n\\ny = %0.2f\"%(px, py), rotation=45, color='red')"
   ]
  },
  {
   "cell_type": "markdown",
   "metadata": {
    "slideshow": {
     "slide_type": "slide"
    }
   },
   "source": [
    "## 3D-Plots"
   ]
  },
  {
   "cell_type": "code",
   "execution_count": null,
   "metadata": {
    "slideshow": {
     "slide_type": "subslide"
    }
   },
   "outputs": [],
   "source": [
    "ax = plt.axes(projection='3d')\n",
    "\n",
    "# Data for a three-dimensional line\n",
    "zline = np.linspace(0, 15, 1000)\n",
    "xline = np.sin(zline)\n",
    "yline = np.cos(zline)\n",
    "ax.plot3D(xline, yline, zline, 'gray')\n",
    "\n",
    "# Data for three-dimensional scattered points\n",
    "zdata = 15 * np.random.random(100)\n",
    "xdata = np.sin(zdata) + 0.1 * np.random.randn(100)\n",
    "ydata = np.cos(zdata) + 0.1 * np.random.randn(100)\n",
    "ax.scatter3D(xdata, ydata, zdata, c=zdata, cmap='Greens');"
   ]
  },
  {
   "cell_type": "code",
   "execution_count": null,
   "metadata": {
    "slideshow": {
     "slide_type": "subslide"
    }
   },
   "outputs": [],
   "source": [
    "def f(x, y):\n",
    "    return np.sin(np.sqrt(x ** 2 + y ** 2))\n",
    "\n",
    "x = np.linspace(-6, 6, 30)\n",
    "y = np.linspace(-6, 6, 30)\n",
    "\n",
    "X, Y = np.meshgrid(x, y)\n",
    "Z = f(X, Y)\n",
    "ax = plt.axes(projection='3d')\n",
    "ax.plot_surface(X, Y, Z, rstride=1, cstride=1, cmap='viridis', edgecolor='none');"
   ]
  },
  {
   "cell_type": "markdown",
   "metadata": {
    "slideshow": {
     "slide_type": "slide"
    }
   },
   "source": [
    "## GIFs erzeugen"
   ]
  },
  {
   "cell_type": "code",
   "execution_count": null,
   "metadata": {
    "slideshow": {
     "slide_type": "-"
    }
   },
   "outputs": [],
   "source": [
    "from matplotlib.animation import FuncAnimation\n",
    "\n",
    "fig, ax = plt.subplots()\n",
    "ax.axis([0, 4*np.pi, -1, 1]);\n",
    "x = np.linspace(0,2*np.pi,50)\n",
    "\n",
    "it = 63 # (2*PI)/0.1\n",
    "p = 0\n",
    "\n",
    "def my_plot(i):\n",
    "    global p\n",
    "    ax.clear()\n",
    "    ax.plot(x, np.sin(x - p), color='r')\n",
    "    p += 0.1\n",
    "    return\n",
    "\n",
    "anim = FuncAnimation(fig, my_plot, frames=np.arange(0, it), interval=50, repeat=True)\n",
    "anim.save('simple.gif', dpi=80, writer='pillow')"
   ]
  },
  {
   "cell_type": "code",
   "execution_count": null,
   "metadata": {
    "slideshow": {
     "slide_type": "subslide"
    }
   },
   "outputs": [],
   "source": [
    "from IPython.display import Image\n",
    "Image('simple.gif')"
   ]
  },
  {
   "cell_type": "markdown",
   "metadata": {
    "cell_style": "center",
    "slideshow": {
     "slide_type": "slide"
    }
   },
   "source": [
    "## Quellen\n",
    "\n",
    "[1] Jake VanderPlas, [*Python Data Science Handbook*](https://github.com/jakevdp/PythonDataScienceHandbook), O'Reilly, 2016."
   ]
  }
 ],
 "metadata": {
  "kernelspec": {
   "display_name": "Python 3 (ipykernel)",
   "language": "python",
   "name": "python3"
  },
  "language_info": {
   "codemirror_mode": {
    "name": "ipython",
    "version": 3
   },
   "file_extension": ".py",
   "mimetype": "text/x-python",
   "name": "python",
   "nbconvert_exporter": "python",
   "pygments_lexer": "ipython3",
   "version": "3.10.8"
  },
  "rise": {
   "enable_chalkboard": true
  },
  "varInspector": {
   "cols": {
    "lenName": 16,
    "lenType": 16,
    "lenVar": 40
   },
   "kernels_config": {
    "python": {
     "delete_cmd_postfix": "",
     "delete_cmd_prefix": "del ",
     "library": "var_list.py",
     "varRefreshCmd": "print(var_dic_list())"
    },
    "r": {
     "delete_cmd_postfix": ") ",
     "delete_cmd_prefix": "rm(",
     "library": "var_list.r",
     "varRefreshCmd": "cat(var_dic_list()) "
    }
   },
   "types_to_exclude": [
    "module",
    "function",
    "builtin_function_or_method",
    "instance",
    "_Feature"
   ],
   "window_display": false
  }
 },
 "nbformat": 4,
 "nbformat_minor": 2
}
