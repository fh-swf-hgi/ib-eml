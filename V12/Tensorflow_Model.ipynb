{
 "cells": [
  {
   "cell_type": "markdown",
   "id": "0d4b54ef",
   "metadata": {},
   "source": [
    "<figure>\n",
    "  <IMG SRC=\"https://upload.wikimedia.org/wikipedia/commons/thumb/d/d5/Fachhochschule_Südwestfalen_20xx_logo.svg/320px-Fachhochschule_Südwestfalen_20xx_logo.svg.png\" WIDTH=250 ALIGN=\"right\">\n",
    "</figure>\n",
    "\n",
    "# Einführung Machine Learning\n",
    "### Sommersemester 2023\n",
    "Prof. Dr. Heiner Giefers"
   ]
  },
  {
   "cell_type": "code",
   "execution_count": null,
   "id": "5cb58477",
   "metadata": {},
   "outputs": [],
   "source": [
    "import os\n",
    "import urllib.request\n",
    "import pandas as pd\n",
    "from sklearn.model_selection import train_test_split\n",
    "\n",
    "url = \"https://github.com/fhswf/datasets/raw/main/groesse_gewicht.csv\"\n",
    "dfile = \"./daten.csv\"\n",
    "\n",
    "if not os.path.isfile(dfile):\n",
    "    urllib.request.urlretrieve(url, dfile)\n",
    "    \n",
    "df = pd.read_csv(dfile)\n",
    "df, dtest = train_test_split(df, train_size=0.01)\n",
    "df.reset_index(inplace=True)\n",
    "df.head()"
   ]
  },
  {
   "cell_type": "code",
   "execution_count": null,
   "id": "3aa41fd3",
   "metadata": {},
   "outputs": [],
   "source": [
    "from sklearn.preprocessing import MinMaxScaler\n",
    "y = df.Geschlecht.values.reshape(-1,1)\n",
    "X = MinMaxScaler().fit_transform(df[[\"Groesse\", \"Gewicht\"]])\n",
    "X = X.astype('float32')\n",
    "X.shape , y.shape"
   ]
  },
  {
   "cell_type": "code",
   "execution_count": null,
   "id": "0d51a53d",
   "metadata": {},
   "outputs": [],
   "source": [
    "from sklearn.linear_model import LogisticRegression\n",
    "from sklearn.model_selection import train_test_split\n",
    "\n",
    "X_train, X_test, y_train, y_test = train_test_split(X, y.ravel(), test_size=0.3)\n",
    "logreg = LogisticRegression().fit(X_train, y_train)\n",
    "logreg.coef_, logreg.intercept_"
   ]
  },
  {
   "cell_type": "code",
   "execution_count": null,
   "id": "8d9eae8a",
   "metadata": {},
   "outputs": [],
   "source": [
    "pred_logreg = logreg.predict(X_test)\n",
    "pred_logreg"
   ]
  },
  {
   "cell_type": "code",
   "execution_count": null,
   "id": "70168156",
   "metadata": {},
   "outputs": [],
   "source": [
    "import numpy as np\n",
    "import tensorflow as tf\n",
    "\n",
    "w = tf.Variable([[2.03257188], [2.95809896]])\n",
    "b = tf.Variable([[-2.24581804]])\n",
    "\n",
    "x = tf.Variable(X_test)\n",
    "y = tf.cast(tf.Variable(y_test), tf.float32)\n",
    "\n",
    "z = tf.reshape(tf.add(tf.matmul(x, w), b),[-1])\n",
    "logits = tf.sigmoid(z)\n",
    "y_bool = tf.less(0.5, logits)\n",
    "y_hat = tf.cast(y_bool, tf.float32)\n",
    "prediction_tf = y_hat"
   ]
  },
  {
   "cell_type": "code",
   "execution_count": null,
   "id": "57b9d8cf",
   "metadata": {},
   "outputs": [],
   "source": [
    "pred_logreg == prediction_tf"
   ]
  },
  {
   "cell_type": "code",
   "execution_count": null,
   "id": "c782fe2d",
   "metadata": {},
   "outputs": [],
   "source": [
    "def compute_loss(y, logits):\n",
    "    loss = -(y * tf.math.log(logits) + (1 - y) * tf.math.log(1 - logits))\n",
    "    # Loss ist ein Vektor ... wir berechnen daraus den Mittelwert\n",
    "    return tf.reduce_mean(loss)\n",
    "\n",
    "compute_loss(y, logits)"
   ]
  },
  {
   "cell_type": "code",
   "execution_count": null,
   "id": "88d385ea",
   "metadata": {},
   "outputs": [],
   "source": []
  }
 ],
 "metadata": {
  "kernelspec": {
   "display_name": "Python 3 (ipykernel)",
   "language": "python",
   "name": "python3"
  },
  "language_info": {
   "codemirror_mode": {
    "name": "ipython",
    "version": 3
   },
   "file_extension": ".py",
   "mimetype": "text/x-python",
   "name": "python",
   "nbconvert_exporter": "python",
   "pygments_lexer": "ipython3",
   "version": "3.10.8"
  },
  "varInspector": {
   "cols": {
    "lenName": 16,
    "lenType": 16,
    "lenVar": 40
   },
   "kernels_config": {
    "python": {
     "delete_cmd_postfix": "",
     "delete_cmd_prefix": "del ",
     "library": "var_list.py",
     "varRefreshCmd": "print(var_dic_list())"
    },
    "r": {
     "delete_cmd_postfix": ") ",
     "delete_cmd_prefix": "rm(",
     "library": "var_list.r",
     "varRefreshCmd": "cat(var_dic_list()) "
    }
   },
   "types_to_exclude": [
    "module",
    "function",
    "builtin_function_or_method",
    "instance",
    "_Feature"
   ],
   "window_display": false
  }
 },
 "nbformat": 4,
 "nbformat_minor": 5
}
