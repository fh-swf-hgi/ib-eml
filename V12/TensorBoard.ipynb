{
 "cells": [
  {
   "cell_type": "markdown",
   "id": "0d4b54ef",
   "metadata": {},
   "source": [
    "<figure>\n",
    "  <IMG SRC=\"https://upload.wikimedia.org/wikipedia/commons/thumb/d/d5/Fachhochschule_Südwestfalen_20xx_logo.svg/320px-Fachhochschule_Südwestfalen_20xx_logo.svg.png\" WIDTH=250 ALIGN=\"right\">\n",
    "</figure>\n",
    "\n",
    "# Einführung Machine Learning\n",
    "### Sommersemester 2023\n",
    "Prof. Dr. Heiner Giefers"
   ]
  },
  {
   "cell_type": "markdown",
   "metadata": {
    "id": "HEYuO5NFwDK9"
   },
   "source": [
    "# Erste Schritte mit TensorBoard"
   ]
  },
  {
   "cell_type": "markdown",
   "metadata": {
    "id": "56V5oun18ZdZ"
   },
   "source": [
    "Um beim Vorgänge beim maschinellen Lernen besser verstehen zu können, sollte man Kennzahlen messen und viosualisieren. TensorBoard ist ein Werkzeug, mit dem man solches Messungen und Visualisierungen während des maschinellen Lernprozesses umsetzen kann. Es ermöglicht die Verfolgung von Metriken wie Verlust und Genauigkeit, die Visualisierung des Modellgraphen, die Projektion von Einbettungen in einen niedrigdimensionalen Raum und vieles mehr.\n",
    "\n",
    "Dieser Schnellstart zeigt, wie man schnell mit TensorBoard loslegen kann. Die verbleibenden Anleitungen auf dieser Website bieten mehr Details über spezifische Fähigkeiten, von denen viele hier nicht enthalten sind."
   ]
  },
  {
   "cell_type": "code",
   "execution_count": null,
   "metadata": {
    "id": "6B95Hb6YVgPZ"
   },
   "outputs": [],
   "source": [
    "# Load the TensorBoard notebook extension\n",
    "%load_ext tensorboard"
   ]
  },
  {
   "cell_type": "code",
   "execution_count": null,
   "metadata": {
    "id": "_wqSAZExy6xV"
   },
   "outputs": [],
   "source": [
    "import tensorflow as tf\n",
    "import datetime"
   ]
  },
  {
   "cell_type": "code",
   "execution_count": null,
   "metadata": {
    "id": "Ao7fJW1Pyiza"
   },
   "outputs": [],
   "source": [
    "# Clear any logs from previous runs\n",
    "!rm -rf ./logs/ "
   ]
  },
  {
   "cell_type": "markdown",
   "metadata": {
    "id": "z5pr9vuHVgXY"
   },
   "source": [
    "Wirt verwenden erneut den [MNIST](https://en.wikipedia.org/wiki/MNIST_database)-Datensatz als Beispiel.\n",
    "Als erstes normalisieren wir die Daten und schreiben Sie eine Funktion, die ein einfaches Keras-Modell zur Klassifizierung der Bilder in 10 Klassen erstellt."
   ]
  },
  {
   "cell_type": "code",
   "execution_count": null,
   "metadata": {
    "id": "j-DHsby18cot"
   },
   "outputs": [],
   "source": [
    "mnist = tf.keras.datasets.mnist\n",
    "\n",
    "(x_train, y_train),(x_test, y_test) = mnist.load_data()\n",
    "x_train, x_test = x_train / 255.0, x_test / 255.0\n",
    "\n",
    "def create_model():\n",
    "    return tf.keras.models.Sequential([\n",
    "        tf.keras.layers.Flatten(input_shape=(28, 28), name='layers_flatten'),\n",
    "        tf.keras.layers.Dense(512, activation='relu', name='layers_dense'),\n",
    "        tf.keras.layers.Dropout(0.2, name='layers_dropout'),\n",
    "        tf.keras.layers.Dense(10, activation='softmax', name='layers_dense_2')\n",
    "    ])"
   ]
  },
  {
   "cell_type": "markdown",
   "metadata": {
    "id": "XKUjdIoV87um"
   },
   "source": [
    "## TensorBoard mit der `fit`-Methodes eines Keras Modells verwenden"
   ]
  },
  {
   "cell_type": "markdown",
   "metadata": {
    "id": "8CL_lxdn8-Sv"
   },
   "source": [
    "Wenn wir ein Modell mit [Model.fit()] (https://www.tensorflow.org/api_docs/python/tf/keras/models/Model#fit) aus Keras trainieren, fügen wir den Callback `tf.keras.callbacks.TensorBoard` hinzu. Dies führt dazu, dass Protokolle erstellt und gespeichert werden. Wir aktivieren zusätzlich die Histogrammberechnung in jeder Epoche mit `histogram_freq=1`.\n",
    "\n",
    "Es ist sinnvoll, die Logs in einem Unterverzeichnis anzulege, dass mit einem Zeitstempel im Namen versehen wird. Dies erlaubt im Nachgang eine einfache Auswahl der verschiedenen Trainingsläufe."
   ]
  },
  {
   "cell_type": "code",
   "execution_count": null,
   "metadata": {
    "id": "WAQThq539CEJ"
   },
   "outputs": [],
   "source": [
    "model = create_model()\n",
    "model.compile(optimizer='adam',\n",
    "              loss='sparse_categorical_crossentropy',\n",
    "              metrics=['accuracy'])\n",
    "\n",
    "log_dir = \"logs/fit/\" + datetime.datetime.now().strftime(\"%Y%m%d-%H%M%S\")\n",
    "tensorboard_callback = tf.keras.callbacks.TensorBoard(log_dir=log_dir, histogram_freq=1)\n",
    "\n",
    "model.fit(x=x_train, \n",
    "          y=y_train, \n",
    "          epochs=5, \n",
    "          validation_data=(x_test, y_test), \n",
    "          callbacks=[tensorboard_callback])"
   ]
  },
  {
   "cell_type": "markdown",
   "metadata": {
    "id": "asjGpmD09dRl"
   },
   "source": [
    "Nun starten wir TensorBoard über die Kommandozeile oder innerhalb eines Notebooks. Die beiden Schnittstellen sind im Allgemeinen die gleichen. In Notebooks benutzen wir das `ipython` *Magic Command* `%tensorboard`. Auf der Kommandozeile würde man den gleichen Befehl ohne \"%\" ausführen."
   ]
  },
  {
   "cell_type": "code",
   "execution_count": null,
   "metadata": {
    "id": "A4UKgTLb9fKI"
   },
   "outputs": [],
   "source": [
    "%tensorboard --logdir logs/fit/"
   ]
  },
  {
   "cell_type": "markdown",
   "metadata": {},
   "source": [
    "Falls Sie eine Fehlermeldung der Art `ERROR: Could not find 'tensorboard'` erhalten, findet das Notebook das TensorBoard Programm nicht.\n",
    "Finden Sie den Speicherort des TensorBoard Programms heraus (z.B. mit `which tensorboard` auf Linux oder MacOS Systemen) und tragen Sie entweder den Pfad in der Umgebungsvariablen `PATH` ein, oder setzen Sie explizit die Umgebungsvariable `TENSORBOARD_BINARY`. Dies können Sie auch direkt aus dem Notebook heraus bewerkstelligen, z.B. so:\n",
    "```python\n",
    "import os\n",
    "os.environ[\"TENSORBOARD_BINARY\"]=\"/opt/homebrew/Caskroom/miniforge/base/bin/tensorboard\"\n",
    "```"
   ]
  },
  {
   "cell_type": "code",
   "execution_count": null,
   "metadata": {},
   "outputs": [],
   "source": [
    "import os\n",
    "os.environ[\"TENSORBOARD_BINARY\"]=\"/opt/homebrew/Caskroom/miniforge/base/bin/tensorboard\""
   ]
  },
  {
   "cell_type": "markdown",
   "metadata": {
    "id": "Gi4PaRm39of2"
   },
   "source": [
    "Ein kurzer Überblick über die in diesem Beispiel erstellten Visualisierungen und die Dashboards (Registerkarten in der oberen Navigationsleiste), in denen sie zu finden sind:\n",
    "\n",
    "* **Skalare** zeigen, wie sich der Verlust und die Metriken mit jeder Epoche ändern. Sie können sie auch verwenden, um die Trainingsgeschwindigkeit, die Lernrate und andere skalare Werte zu verfolgen. Skalare sind in den Dashboards **Time Series** oder **Scalars** zu finden.\n",
    "* **Graphen** helfen Ihnen bei der Visualisierung Ihres Modells. In diesem Fall wird das Keras-Diagramm der Schichten angezeigt, was Ihnen helfen kann, sicherzustellen, dass es korrekt aufgebaut ist. Graphen finden Sie im Dashboard **Graphs**.\n",
    "* **Histogramme** und **Verteilungen** zeigen die Verteilung eines Tensors über die Zeit. Dies kann nützlich sein, um Gewichte und Verzerrungen zu visualisieren und zu überprüfen, ob sie sich in der erwarteten Weise verändern. Histogramme sind in den Dashboards **Time Series** oder **Histogramms** zu finden. Verteilungen können im **Distributions** Dashboard gefunden werden.\n",
    "\n",
    "Zusätzliche TensorBoard Dashboards werden automatisch aktiviert, wenn Sie andere Datentypen protokollieren. Zum Beispiel können Sie mit dem Keras TensorBoard Callback auch Bilder und Einbettungen protokollieren. Sie können sehen, welche anderen Dashboards in TensorBoard verfügbar sind, indem Sie auf das \"inaktive\" Dropdown oben rechts klicken."
   ]
  },
  {
   "cell_type": "markdown",
   "metadata": {
    "id": "vsowjhkBdkbK"
   },
   "source": [
    "## Trainingsläufe mit TensorBoard.dev öffentlich hosten\n",
    "\n",
    "[TensorBoard.dev](https://tensorboard.dev) ist ein kostenloser öffentlicher Dienst, der es Ihnen ermöglicht, Ihre TensorBoard-Protokolle hochzuladen und einen Permalink zu erhalten, der in Ausarbeitungen, Blogbeiträgen, sozialen Medien usw. öffentlich geteilt werden kann. Dies kann eine bessere Reproduzierbarkeit und Zusammenarbeit ermöglichen.\n",
    "\n",
    "Um TensorBoard.dev zu benutzen, führen Sie den folgenden Befehl aus:\n"
   ]
  },
  {
   "cell_type": "code",
   "execution_count": null,
   "metadata": {
    "id": "Q3nupQL24E5E"
   },
   "outputs": [],
   "source": [
    "!tensorboard dev upload \\\n",
    "  --logdir logs/fit \\\n",
    "  --name \"(optional) My latest experiment\" \\\n",
    "  --description \"(optional) Simple comparison of several hyperparameters\" \\\n",
    "  --one_shot"
   ]
  },
  {
   "cell_type": "markdown",
   "metadata": {
    "id": "lAgEh_Ow4EX6"
   },
   "source": [
    "Beachten Sie, dass dieser Aufruf das Ausrufepräfix (`!`) verwendet, um die Shell aufzurufen, und nicht das Prozent-Präfix (`%`), um ein *Magic Command* aufzurufen.  Wenn Sie diesen Befehl von der Kommandozeile aus aufrufen, ist keines der beiden Präfixe erforderlich.\n",
    "\n",
    "Sehen Sie sich ein Beispiel an [hier](https://tensorboard.dev/experiment/EDZb7XgKSBKo6Gznh3i8hg/#scalars).\n",
    "\n",
    "Für weitere Details über die Verwendung von TensorBoard.dev, siehe https://tensorboard.dev/#get-started"
   ]
  },
  {
   "cell_type": "markdown",
   "metadata": {
    "cellView": "form",
    "id": "0sK8X2O9bTlz"
   },
   "source": [
    "## Referenzen\n",
    "\n",
    "Das Beispiel wurde übernommen aus dem Notebook [Get started with TensorBoard](https://www.tensorflow.org/tensorboard/get_started) der [TensorFlow Dokumentation](https://www.tensorflow.org) und unterliegt der [Apache Lizenz 2.0](https://www.apache.org/licenses/LICENSE-2.0)"
   ]
  }
 ],
 "metadata": {
  "colab": {
   "collapsed_sections": [],
   "name": "get_started.ipynb",
   "toc_visible": true
  },
  "kernelspec": {
   "display_name": "Python 3 (ipykernel)",
   "language": "python",
   "name": "python3"
  },
  "language_info": {
   "codemirror_mode": {
    "name": "ipython",
    "version": 3
   },
   "file_extension": ".py",
   "mimetype": "text/x-python",
   "name": "python",
   "nbconvert_exporter": "python",
   "pygments_lexer": "ipython3",
   "version": "3.10.8"
  },
  "varInspector": {
   "cols": {
    "lenName": 16,
    "lenType": 16,
    "lenVar": 40
   },
   "kernels_config": {
    "python": {
     "delete_cmd_postfix": "",
     "delete_cmd_prefix": "del ",
     "library": "var_list.py",
     "varRefreshCmd": "print(var_dic_list())"
    },
    "r": {
     "delete_cmd_postfix": ") ",
     "delete_cmd_prefix": "rm(",
     "library": "var_list.r",
     "varRefreshCmd": "cat(var_dic_list()) "
    }
   },
   "types_to_exclude": [
    "module",
    "function",
    "builtin_function_or_method",
    "instance",
    "_Feature"
   ],
   "window_display": false
  }
 },
 "nbformat": 4,
 "nbformat_minor": 1
}
